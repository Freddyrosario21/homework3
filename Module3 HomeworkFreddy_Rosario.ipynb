{
 "cells": [
  {
   "cell_type": "markdown",
   "metadata": {},
   "source": [
    "### Exercise 1\n",
    "Ask a user for 5 names and place each one in to a list called <i>names</i>. Then, print <i>names</i>."
   ]
  },
  {
   "cell_type": "code",
   "execution_count": 42,
   "metadata": {},
   "outputs": [
    {
     "name": "stdout",
     "output_type": "stream",
     "text": [
      "enter user 1: a\n",
      "enter user 2: b\n",
      "enter user 3: c\n",
      "enter user 4: d\n",
      "enter user 5: e\n",
      "['a', 'b', 'c', 'd', 'e']\n"
     ]
    }
   ],
   "source": [
    "names = []\n",
    "\n",
    "names.append(input(\"enter user 1: \"))\n",
    "names.append(input(\"enter user 2: \"))\n",
    "names.append(input(\"enter user 3: \"))\n",
    "names.append(input(\"enter user 4: \"))\n",
    "names.append(input(\"enter user 5: \"))\n",
    "\n",
    "print (names)"
   ]
  },
  {
   "cell_type": "markdown",
   "metadata": {},
   "source": [
    "### Exercise 2\n",
    "Print out a randomly selected name in the names list."
   ]
  },
  {
   "cell_type": "code",
   "execution_count": 81,
   "metadata": {},
   "outputs": [
    {
     "name": "stdout",
     "output_type": "stream",
     "text": [
      "Orginal List: \n",
      " str['a', 'b', 'c', 'd', 'e']\n",
      "Random Name: \n",
      " c\n"
     ]
    }
   ],
   "source": [
    "import random as rand \n",
    "\n",
    "print (F\"Orginal List: \\n {names}\")\n",
    "\n",
    "random_names = rand.choice(names)\n",
    "\n",
    "print (f\"Random Name: \\n {random_names}\")\n",
    "\n",
    "\n",
    "\n",
    "\n",
    "\n"
   ]
  },
  {
   "cell_type": "markdown",
   "metadata": {},
   "source": [
    "### Exercise 3\n",
    "Ask for a color and store that answer. \n",
    "If the answer is grey then print out you found Victor's favorite color.\n",
    "Otherwise print out the color is not Victor's favorite color."
   ]
  },
  {
   "cell_type": "code",
   "execution_count": null,
   "metadata": {},
   "outputs": [],
   "source": [
    "color = str(input(\"What is the color: \"))\n",
    "\n",
    "if color == \"grey\":\n",
    " print (\"you found Victor's favorite color\")\n",
    "\n",
    "elif color != \"grey\":\n",
    " print (\"the color is not Victor's favorite color\")\n",
    "\n",
    "\n"
   ]
  },
  {
   "cell_type": "markdown",
   "metadata": {},
   "source": [
    "### Exercise 4\n",
    "Ask for an exam score and store that number. If the number is greater than 100, then print out 'You cannot have an exam score higher than 100'. If the number doesn't exceeed 100 but is greater than or equal to 75, then print out 'You did great on your exam!'. Otherwise if they scored lower than 75, then print out 'You need to study harder'."
   ]
  },
  {
   "cell_type": "code",
   "execution_count": 115,
   "metadata": {},
   "outputs": [
    {
     "name": "stdout",
     "output_type": "stream",
     "text": [
      "what is the score: 75\n",
      "You did great on your exam!\n"
     ]
    }
   ],
   "source": [
    "examscore = int(input (\"what is the score: \"))\n",
    "\n",
    "if examscore > 100 :\n",
    "    print (\"You cannot have an exam score higher than 100\")\n",
    "elif examscore >= 75 :\n",
    "    print (\"You did great on your exam!\")\n",
    "elif examscore < 75:\n",
    "    print (\"You need to study harder!\")"
   ]
  },
  {
   "cell_type": "markdown",
   "metadata": {},
   "source": [
    "### Exercise 5\n",
    "Write a function to convert a test score to a grade where  \n",
    " - 90 - 100: A\n",
    " - 80 - 89:  B\n",
    " - 70 - 79:  C\n",
    " - 60 - 69:  D\n",
    " - < 60   :  F\n",
    " \n",
    "If a score is not between 0 and 100 then print out an error message. In the program, ask the user for a score and then call your function. "
   ]
  },
  {
   "cell_type": "code",
   "execution_count": 123,
   "metadata": {},
   "outputs": [
    {
     "name": "stdout",
     "output_type": "stream",
     "text": [
      "What is the score: 50\n",
      "You got a 'F'\n"
     ]
    }
   ],
   "source": [
    "examscore = int(input (\"What is the score: \"))\n",
    "\n",
    "if examscore > 100 :\n",
    "    print (\"You cannot have an exam score higher than 100\")\n",
    "    \n",
    "elif examscore >= 90:\n",
    "    print(\"You got a 'A'\")\n",
    "elif examscore >= 80:\n",
    "    print(\"You got a 'B'\")\n",
    "elif examscore >= 70:\n",
    "    print(\"You got a 'C'\")\n",
    "elif examscore >= 60:\n",
    "    print(\"You got a 'D'\")\n",
    "elif examscore < 60:\n",
    "    print(\"You got a 'F'\")"
   ]
  },
  {
   "cell_type": "code",
   "execution_count": null,
   "metadata": {},
   "outputs": [],
   "source": []
  }
 ],
 "metadata": {
  "kernelspec": {
   "display_name": "Python 3 (ipykernel)",
   "language": "python",
   "name": "python3"
  },
  "language_info": {
   "codemirror_mode": {
    "name": "ipython",
    "version": 3
   },
   "file_extension": ".py",
   "mimetype": "text/x-python",
   "name": "python",
   "nbconvert_exporter": "python",
   "pygments_lexer": "ipython3",
   "version": "3.9.12"
  }
 },
 "nbformat": 4,
 "nbformat_minor": 4
}
